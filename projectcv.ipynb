{
  "cells": [
    {
      "cell_type": "code",
      "execution_count": 1,
      "metadata": {
        "colab": {
          "base_uri": "https://localhost:8080/"
        },
        "id": "eU8j410clyIm",
        "outputId": "5aa64310-c5ec-4f75-b5f2-648b29dc958e"
      },
      "outputs": [
        {
          "name": "stdout",
          "output_type": "stream",
          "text": [
            "Defaulting to user installation because normal site-packages is not writeable\n",
            "Requirement already satisfied: paddleocr in /home/atong/.local/lib/python3.10/site-packages (3.0.1)\n",
            "Requirement already satisfied: paddlex==3.0.1 in /home/atong/.local/lib/python3.10/site-packages (from paddlex[ie,multimodal,ocr]==3.0.1->paddleocr) (3.0.1)\n",
            "Requirement already satisfied: PyYAML>=6 in /home/atong/.local/lib/python3.10/site-packages (from paddleocr) (6.0.2)\n",
            "Requirement already satisfied: typing-extensions>=4.12 in /home/atong/.local/lib/python3.10/site-packages (from paddleocr) (4.14.0)\n",
            "Requirement already satisfied: chardet in /home/atong/.local/lib/python3.10/site-packages (from paddlex==3.0.1->paddlex[ie,multimodal,ocr]==3.0.1->paddleocr) (5.2.0)\n",
            "Requirement already satisfied: colorlog in /home/atong/.local/lib/python3.10/site-packages (from paddlex==3.0.1->paddlex[ie,multimodal,ocr]==3.0.1->paddleocr) (6.9.0)\n",
            "Requirement already satisfied: filelock in /home/atong/.local/lib/python3.10/site-packages (from paddlex==3.0.1->paddlex[ie,multimodal,ocr]==3.0.1->paddleocr) (3.18.0)\n",
            "Requirement already satisfied: GPUtil>=1.4 in /home/atong/.local/lib/python3.10/site-packages (from paddlex==3.0.1->paddlex[ie,multimodal,ocr]==3.0.1->paddleocr) (1.4.0)\n",
            "Requirement already satisfied: numpy==1.24.4 in /home/atong/.local/lib/python3.10/site-packages (from paddlex==3.0.1->paddlex[ie,multimodal,ocr]==3.0.1->paddleocr) (1.24.4)\n",
            "Requirement already satisfied: packaging in /home/atong/.local/lib/python3.10/site-packages (from paddlex==3.0.1->paddlex[ie,multimodal,ocr]==3.0.1->paddleocr) (24.2)\n",
            "Requirement already satisfied: pandas<=1.5.3 in /home/atong/.local/lib/python3.10/site-packages (from paddlex==3.0.1->paddlex[ie,multimodal,ocr]==3.0.1->paddleocr) (1.5.3)\n",
            "Requirement already satisfied: pillow in /home/atong/.local/lib/python3.10/site-packages (from paddlex==3.0.1->paddlex[ie,multimodal,ocr]==3.0.1->paddleocr) (11.2.1)\n",
            "Requirement already satisfied: prettytable in /home/atong/.local/lib/python3.10/site-packages (from paddlex==3.0.1->paddlex[ie,multimodal,ocr]==3.0.1->paddleocr) (3.16.0)\n",
            "Requirement already satisfied: py-cpuinfo in /home/atong/.local/lib/python3.10/site-packages (from paddlex==3.0.1->paddlex[ie,multimodal,ocr]==3.0.1->paddleocr) (9.0.0)\n",
            "Requirement already satisfied: pydantic>=2 in /home/atong/.local/lib/python3.10/site-packages (from paddlex==3.0.1->paddlex[ie,multimodal,ocr]==3.0.1->paddleocr) (2.11.7)\n",
            "Requirement already satisfied: requests in /home/atong/.local/lib/python3.10/site-packages (from paddlex==3.0.1->paddlex[ie,multimodal,ocr]==3.0.1->paddleocr) (2.32.4)\n",
            "Requirement already satisfied: ruamel.yaml in /home/atong/.local/lib/python3.10/site-packages (from paddlex==3.0.1->paddlex[ie,multimodal,ocr]==3.0.1->paddleocr) (0.18.14)\n",
            "Requirement already satisfied: ujson in /home/atong/.local/lib/python3.10/site-packages (from paddlex==3.0.1->paddlex[ie,multimodal,ocr]==3.0.1->paddleocr) (5.10.0)\n",
            "Requirement already satisfied: einops in /home/atong/.local/lib/python3.10/site-packages (from paddlex[ie,multimodal,ocr]==3.0.1->paddleocr) (0.8.1)\n",
            "Requirement already satisfied: ftfy in /home/atong/.local/lib/python3.10/site-packages (from paddlex[ie,multimodal,ocr]==3.0.1->paddleocr) (6.3.1)\n",
            "Requirement already satisfied: Jinja2 in /home/atong/.local/lib/python3.10/site-packages (from paddlex[ie,multimodal,ocr]==3.0.1->paddleocr) (3.1.6)\n",
            "Requirement already satisfied: opencv-contrib-python==4.10.0.84 in /home/atong/.local/lib/python3.10/site-packages (from paddlex[ie,multimodal,ocr]==3.0.1->paddleocr) (4.10.0.84)\n",
            "Requirement already satisfied: pypdfium2>=4 in /home/atong/.local/lib/python3.10/site-packages (from paddlex[ie,multimodal,ocr]==3.0.1->paddleocr) (4.30.1)\n",
            "Requirement already satisfied: regex in /home/atong/.local/lib/python3.10/site-packages (from paddlex[ie,multimodal,ocr]==3.0.1->paddleocr) (2024.11.6)\n",
            "Requirement already satisfied: tiktoken in /home/atong/.local/lib/python3.10/site-packages (from paddlex[ie,multimodal,ocr]==3.0.1->paddleocr) (0.9.0)\n",
            "Requirement already satisfied: imagesize in /home/atong/.local/lib/python3.10/site-packages (from paddlex[ie,multimodal,ocr]==3.0.1->paddleocr) (1.4.1)\n",
            "Requirement already satisfied: lxml in /home/atong/.local/lib/python3.10/site-packages (from paddlex[ie,multimodal,ocr]==3.0.1->paddleocr) (5.4.0)\n",
            "Requirement already satisfied: openpyxl in /home/atong/.local/lib/python3.10/site-packages (from paddlex[ie,multimodal,ocr]==3.0.1->paddleocr) (3.1.5)\n",
            "Requirement already satisfied: premailer in /home/atong/.local/lib/python3.10/site-packages (from paddlex[ie,multimodal,ocr]==3.0.1->paddleocr) (3.10.0)\n",
            "Requirement already satisfied: pyclipper in /home/atong/.local/lib/python3.10/site-packages (from paddlex[ie,multimodal,ocr]==3.0.1->paddleocr) (1.3.0.post6)\n",
            "Requirement already satisfied: scikit-learn in /home/atong/.local/lib/python3.10/site-packages (from paddlex[ie,multimodal,ocr]==3.0.1->paddleocr) (1.7.0)\n",
            "Requirement already satisfied: shapely in /home/atong/.local/lib/python3.10/site-packages (from paddlex[ie,multimodal,ocr]==3.0.1->paddleocr) (2.1.1)\n",
            "Requirement already satisfied: tokenizers==0.19.1 in /home/atong/.local/lib/python3.10/site-packages (from paddlex[ie,multimodal,ocr]==3.0.1->paddleocr) (0.19.1)\n",
            "Requirement already satisfied: langchain==0.2.17 in /home/atong/.local/lib/python3.10/site-packages (from paddlex[ie,multimodal,ocr]==3.0.1->paddleocr) (0.2.17)\n",
            "Requirement already satisfied: langchain-community==0.2.17 in /home/atong/.local/lib/python3.10/site-packages (from paddlex[ie,multimodal,ocr]==3.0.1->paddleocr) (0.2.17)\n",
            "Requirement already satisfied: langchain-core in /home/atong/.local/lib/python3.10/site-packages (from paddlex[ie,multimodal,ocr]==3.0.1->paddleocr) (0.2.43)\n",
            "Requirement already satisfied: langchain-openai==0.1.25 in /home/atong/.local/lib/python3.10/site-packages (from paddlex[ie,multimodal,ocr]==3.0.1->paddleocr) (0.1.25)\n",
            "Requirement already satisfied: openai==1.63.2 in /home/atong/.local/lib/python3.10/site-packages (from paddlex[ie,multimodal,ocr]==3.0.1->paddleocr) (1.63.2)\n",
            "Requirement already satisfied: SQLAlchemy<3,>=1.4 in /home/atong/.local/lib/python3.10/site-packages (from langchain==0.2.17->paddlex[ie,multimodal,ocr]==3.0.1->paddleocr) (2.0.41)\n",
            "Requirement already satisfied: aiohttp<4.0.0,>=3.8.3 in /home/atong/.local/lib/python3.10/site-packages (from langchain==0.2.17->paddlex[ie,multimodal,ocr]==3.0.1->paddleocr) (3.12.13)\n",
            "Requirement already satisfied: async-timeout<5.0.0,>=4.0.0 in /home/atong/.local/lib/python3.10/site-packages (from langchain==0.2.17->paddlex[ie,multimodal,ocr]==3.0.1->paddleocr) (4.0.3)\n",
            "Requirement already satisfied: langchain-text-splitters<0.3.0,>=0.2.0 in /home/atong/.local/lib/python3.10/site-packages (from langchain==0.2.17->paddlex[ie,multimodal,ocr]==3.0.1->paddleocr) (0.2.4)\n",
            "Requirement already satisfied: langsmith<0.2.0,>=0.1.17 in /home/atong/.local/lib/python3.10/site-packages (from langchain==0.2.17->paddlex[ie,multimodal,ocr]==3.0.1->paddleocr) (0.1.147)\n",
            "Requirement already satisfied: tenacity!=8.4.0,<9.0.0,>=8.1.0 in /home/atong/.local/lib/python3.10/site-packages (from langchain==0.2.17->paddlex[ie,multimodal,ocr]==3.0.1->paddleocr) (8.5.0)\n",
            "Requirement already satisfied: dataclasses-json<0.7,>=0.5.7 in /home/atong/.local/lib/python3.10/site-packages (from langchain-community==0.2.17->paddlex[ie,multimodal,ocr]==3.0.1->paddleocr) (0.6.7)\n",
            "Requirement already satisfied: anyio<5,>=3.5.0 in /home/atong/.local/lib/python3.10/site-packages (from openai==1.63.2->paddlex[ie,multimodal,ocr]==3.0.1->paddleocr) (4.9.0)\n",
            "Requirement already satisfied: distro<2,>=1.7.0 in /usr/lib/python3/dist-packages (from openai==1.63.2->paddlex[ie,multimodal,ocr]==3.0.1->paddleocr) (1.7.0)\n",
            "Requirement already satisfied: httpx<1,>=0.23.0 in /home/atong/.local/lib/python3.10/site-packages (from openai==1.63.2->paddlex[ie,multimodal,ocr]==3.0.1->paddleocr) (0.28.1)\n",
            "Requirement already satisfied: jiter<1,>=0.4.0 in /home/atong/.local/lib/python3.10/site-packages (from openai==1.63.2->paddlex[ie,multimodal,ocr]==3.0.1->paddleocr) (0.10.0)\n",
            "Requirement already satisfied: sniffio in /home/atong/.local/lib/python3.10/site-packages (from openai==1.63.2->paddlex[ie,multimodal,ocr]==3.0.1->paddleocr) (1.3.1)\n",
            "Requirement already satisfied: tqdm>4 in /home/atong/.local/lib/python3.10/site-packages (from openai==1.63.2->paddlex[ie,multimodal,ocr]==3.0.1->paddleocr) (4.67.1)\n",
            "Requirement already satisfied: huggingface-hub<1.0,>=0.16.4 in /home/atong/.local/lib/python3.10/site-packages (from tokenizers==0.19.1->paddlex[ie,multimodal,ocr]==3.0.1->paddleocr) (0.33.0)\n",
            "Requirement already satisfied: aiohappyeyeballs>=2.5.0 in /home/atong/.local/lib/python3.10/site-packages (from aiohttp<4.0.0,>=3.8.3->langchain==0.2.17->paddlex[ie,multimodal,ocr]==3.0.1->paddleocr) (2.6.1)\n",
            "Requirement already satisfied: aiosignal>=1.1.2 in /home/atong/.local/lib/python3.10/site-packages (from aiohttp<4.0.0,>=3.8.3->langchain==0.2.17->paddlex[ie,multimodal,ocr]==3.0.1->paddleocr) (1.3.2)\n",
            "Requirement already satisfied: attrs>=17.3.0 in /home/atong/.local/lib/python3.10/site-packages (from aiohttp<4.0.0,>=3.8.3->langchain==0.2.17->paddlex[ie,multimodal,ocr]==3.0.1->paddleocr) (25.3.0)\n",
            "Requirement already satisfied: frozenlist>=1.1.1 in /home/atong/.local/lib/python3.10/site-packages (from aiohttp<4.0.0,>=3.8.3->langchain==0.2.17->paddlex[ie,multimodal,ocr]==3.0.1->paddleocr) (1.7.0)\n",
            "Requirement already satisfied: multidict<7.0,>=4.5 in /home/atong/.local/lib/python3.10/site-packages (from aiohttp<4.0.0,>=3.8.3->langchain==0.2.17->paddlex[ie,multimodal,ocr]==3.0.1->paddleocr) (6.4.4)\n",
            "Requirement already satisfied: propcache>=0.2.0 in /home/atong/.local/lib/python3.10/site-packages (from aiohttp<4.0.0,>=3.8.3->langchain==0.2.17->paddlex[ie,multimodal,ocr]==3.0.1->paddleocr) (0.3.2)\n",
            "Requirement already satisfied: yarl<2.0,>=1.17.0 in /home/atong/.local/lib/python3.10/site-packages (from aiohttp<4.0.0,>=3.8.3->langchain==0.2.17->paddlex[ie,multimodal,ocr]==3.0.1->paddleocr) (1.20.1)\n",
            "Requirement already satisfied: exceptiongroup>=1.0.2 in /home/atong/.local/lib/python3.10/site-packages (from anyio<5,>=3.5.0->openai==1.63.2->paddlex[ie,multimodal,ocr]==3.0.1->paddleocr) (1.3.0)\n",
            "Requirement already satisfied: idna>=2.8 in /home/atong/.local/lib/python3.10/site-packages (from anyio<5,>=3.5.0->openai==1.63.2->paddlex[ie,multimodal,ocr]==3.0.1->paddleocr) (3.10)\n",
            "Requirement already satisfied: marshmallow<4.0.0,>=3.18.0 in /home/atong/.local/lib/python3.10/site-packages (from dataclasses-json<0.7,>=0.5.7->langchain-community==0.2.17->paddlex[ie,multimodal,ocr]==3.0.1->paddleocr) (3.26.1)\n",
            "Requirement already satisfied: typing-inspect<1,>=0.4.0 in /home/atong/.local/lib/python3.10/site-packages (from dataclasses-json<0.7,>=0.5.7->langchain-community==0.2.17->paddlex[ie,multimodal,ocr]==3.0.1->paddleocr) (0.9.0)\n",
            "Requirement already satisfied: certifi in /home/atong/.local/lib/python3.10/site-packages (from httpx<1,>=0.23.0->openai==1.63.2->paddlex[ie,multimodal,ocr]==3.0.1->paddleocr) (2025.6.15)\n",
            "Requirement already satisfied: httpcore==1.* in /home/atong/.local/lib/python3.10/site-packages (from httpx<1,>=0.23.0->openai==1.63.2->paddlex[ie,multimodal,ocr]==3.0.1->paddleocr) (1.0.9)\n",
            "Requirement already satisfied: h11>=0.16 in /home/atong/.local/lib/python3.10/site-packages (from httpcore==1.*->httpx<1,>=0.23.0->openai==1.63.2->paddlex[ie,multimodal,ocr]==3.0.1->paddleocr) (0.16.0)\n",
            "Requirement already satisfied: fsspec>=2023.5.0 in /home/atong/.local/lib/python3.10/site-packages (from huggingface-hub<1.0,>=0.16.4->tokenizers==0.19.1->paddlex[ie,multimodal,ocr]==3.0.1->paddleocr) (2025.5.1)\n",
            "Requirement already satisfied: hf-xet<2.0.0,>=1.1.2 in /home/atong/.local/lib/python3.10/site-packages (from huggingface-hub<1.0,>=0.16.4->tokenizers==0.19.1->paddlex[ie,multimodal,ocr]==3.0.1->paddleocr) (1.1.3)\n",
            "Requirement already satisfied: jsonpatch<2.0,>=1.33 in /home/atong/.local/lib/python3.10/site-packages (from langchain-core->paddlex[ie,multimodal,ocr]==3.0.1->paddleocr) (1.33)\n",
            "Requirement already satisfied: jsonpointer>=1.9 in /home/atong/.local/lib/python3.10/site-packages (from jsonpatch<2.0,>=1.33->langchain-core->paddlex[ie,multimodal,ocr]==3.0.1->paddleocr) (3.0.0)\n",
            "Requirement already satisfied: orjson<4.0.0,>=3.9.14 in /home/atong/.local/lib/python3.10/site-packages (from langsmith<0.2.0,>=0.1.17->langchain==0.2.17->paddlex[ie,multimodal,ocr]==3.0.1->paddleocr) (3.10.18)\n",
            "Requirement already satisfied: requests-toolbelt<2.0.0,>=1.0.0 in /home/atong/.local/lib/python3.10/site-packages (from langsmith<0.2.0,>=0.1.17->langchain==0.2.17->paddlex[ie,multimodal,ocr]==3.0.1->paddleocr) (1.0.0)\n",
            "Requirement already satisfied: python-dateutil>=2.8.1 in /home/atong/.local/lib/python3.10/site-packages (from pandas<=1.5.3->paddlex==3.0.1->paddlex[ie,multimodal,ocr]==3.0.1->paddleocr) (2.9.0.post0)\n",
            "Requirement already satisfied: pytz>=2020.1 in /home/atong/.local/lib/python3.10/site-packages (from pandas<=1.5.3->paddlex==3.0.1->paddlex[ie,multimodal,ocr]==3.0.1->paddleocr) (2025.2)\n",
            "Requirement already satisfied: annotated-types>=0.6.0 in /home/atong/.local/lib/python3.10/site-packages (from pydantic>=2->paddlex==3.0.1->paddlex[ie,multimodal,ocr]==3.0.1->paddleocr) (0.7.0)\n",
            "Requirement already satisfied: pydantic-core==2.33.2 in /home/atong/.local/lib/python3.10/site-packages (from pydantic>=2->paddlex==3.0.1->paddlex[ie,multimodal,ocr]==3.0.1->paddleocr) (2.33.2)\n",
            "Requirement already satisfied: typing-inspection>=0.4.0 in /home/atong/.local/lib/python3.10/site-packages (from pydantic>=2->paddlex==3.0.1->paddlex[ie,multimodal,ocr]==3.0.1->paddleocr) (0.4.1)\n",
            "Requirement already satisfied: charset_normalizer<4,>=2 in /home/atong/.local/lib/python3.10/site-packages (from requests->paddlex==3.0.1->paddlex[ie,multimodal,ocr]==3.0.1->paddleocr) (3.4.2)\n",
            "Requirement already satisfied: urllib3<3,>=1.21.1 in /home/atong/.local/lib/python3.10/site-packages (from requests->paddlex==3.0.1->paddlex[ie,multimodal,ocr]==3.0.1->paddleocr) (2.4.0)\n",
            "Requirement already satisfied: greenlet>=1 in /home/atong/.local/lib/python3.10/site-packages (from SQLAlchemy<3,>=1.4->langchain==0.2.17->paddlex[ie,multimodal,ocr]==3.0.1->paddleocr) (3.2.3)\n",
            "Requirement already satisfied: mypy-extensions>=0.3.0 in /home/atong/.local/lib/python3.10/site-packages (from typing-inspect<1,>=0.4.0->dataclasses-json<0.7,>=0.5.7->langchain-community==0.2.17->paddlex[ie,multimodal,ocr]==3.0.1->paddleocr) (1.1.0)\n",
            "Requirement already satisfied: six>=1.5 in /usr/lib/python3/dist-packages (from python-dateutil>=2.8.1->pandas<=1.5.3->paddlex==3.0.1->paddlex[ie,multimodal,ocr]==3.0.1->paddleocr) (1.16.0)\n",
            "Requirement already satisfied: wcwidth in /home/atong/.local/lib/python3.10/site-packages (from ftfy->paddlex[ie,multimodal,ocr]==3.0.1->paddleocr) (0.2.13)\n",
            "Requirement already satisfied: MarkupSafe>=2.0 in /home/atong/.local/lib/python3.10/site-packages (from Jinja2->paddlex[ie,multimodal,ocr]==3.0.1->paddleocr) (3.0.2)\n",
            "Requirement already satisfied: et-xmlfile in /home/atong/.local/lib/python3.10/site-packages (from openpyxl->paddlex[ie,multimodal,ocr]==3.0.1->paddleocr) (2.0.0)\n",
            "Requirement already satisfied: cssselect in /home/atong/.local/lib/python3.10/site-packages (from premailer->paddlex[ie,multimodal,ocr]==3.0.1->paddleocr) (1.3.0)\n",
            "Requirement already satisfied: cssutils in /home/atong/.local/lib/python3.10/site-packages (from premailer->paddlex[ie,multimodal,ocr]==3.0.1->paddleocr) (2.11.1)\n",
            "Requirement already satisfied: cachetools in /home/atong/.local/lib/python3.10/site-packages (from premailer->paddlex[ie,multimodal,ocr]==3.0.1->paddleocr) (6.0.0)\n",
            "Requirement already satisfied: more-itertools in /usr/lib/python3/dist-packages (from cssutils->premailer->paddlex[ie,multimodal,ocr]==3.0.1->paddleocr) (8.10.0)\n",
            "Requirement already satisfied: ruamel.yaml.clib>=0.2.7 in /home/atong/.local/lib/python3.10/site-packages (from ruamel.yaml->paddlex==3.0.1->paddlex[ie,multimodal,ocr]==3.0.1->paddleocr) (0.2.12)\n",
            "Requirement already satisfied: scipy>=1.8.0 in /home/atong/.local/lib/python3.10/site-packages (from scikit-learn->paddlex[ie,multimodal,ocr]==3.0.1->paddleocr) (1.15.3)\n",
            "Requirement already satisfied: joblib>=1.2.0 in /home/atong/.local/lib/python3.10/site-packages (from scikit-learn->paddlex[ie,multimodal,ocr]==3.0.1->paddleocr) (1.5.1)\n",
            "Requirement already satisfied: threadpoolctl>=3.1.0 in /home/atong/.local/lib/python3.10/site-packages (from scikit-learn->paddlex[ie,multimodal,ocr]==3.0.1->paddleocr) (3.6.0)\n",
            "Defaulting to user installation because normal site-packages is not writeable\n",
            "Collecting paddlepaddle\n",
            "  Downloading paddlepaddle-3.0.0-cp310-cp310-manylinux1_x86_64.whl.metadata (8.9 kB)\n",
            "Requirement already satisfied: httpx in /home/atong/.local/lib/python3.10/site-packages (from paddlepaddle) (0.28.1)\n",
            "Requirement already satisfied: numpy>=1.21 in /home/atong/.local/lib/python3.10/site-packages (from paddlepaddle) (1.24.4)\n",
            "Requirement already satisfied: protobuf>=3.20.2 in /home/atong/.local/lib/python3.10/site-packages (from paddlepaddle) (6.31.1)\n",
            "Requirement already satisfied: Pillow in /home/atong/.local/lib/python3.10/site-packages (from paddlepaddle) (11.2.1)\n",
            "Requirement already satisfied: decorator in /home/atong/.local/lib/python3.10/site-packages (from paddlepaddle) (5.2.1)\n",
            "Requirement already satisfied: astor in /home/atong/.local/lib/python3.10/site-packages (from paddlepaddle) (0.8.1)\n",
            "Requirement already satisfied: opt_einsum==3.3.0 in /home/atong/.local/lib/python3.10/site-packages (from paddlepaddle) (3.3.0)\n",
            "Requirement already satisfied: networkx in /usr/local/lib/python3.10/dist-packages (from paddlepaddle) (3.4.2)\n",
            "Requirement already satisfied: typing_extensions in /home/atong/.local/lib/python3.10/site-packages (from paddlepaddle) (4.14.0)\n",
            "Requirement already satisfied: anyio in /home/atong/.local/lib/python3.10/site-packages (from httpx->paddlepaddle) (4.9.0)\n",
            "Requirement already satisfied: certifi in /home/atong/.local/lib/python3.10/site-packages (from httpx->paddlepaddle) (2025.6.15)\n",
            "Requirement already satisfied: httpcore==1.* in /home/atong/.local/lib/python3.10/site-packages (from httpx->paddlepaddle) (1.0.9)\n",
            "Requirement already satisfied: idna in /home/atong/.local/lib/python3.10/site-packages (from httpx->paddlepaddle) (3.10)\n",
            "Requirement already satisfied: h11>=0.16 in /home/atong/.local/lib/python3.10/site-packages (from httpcore==1.*->httpx->paddlepaddle) (0.16.0)\n",
            "Requirement already satisfied: exceptiongroup>=1.0.2 in /home/atong/.local/lib/python3.10/site-packages (from anyio->httpx->paddlepaddle) (1.3.0)\n",
            "Requirement already satisfied: sniffio>=1.1 in /home/atong/.local/lib/python3.10/site-packages (from anyio->httpx->paddlepaddle) (1.3.1)\n",
            "Downloading paddlepaddle-3.0.0-cp310-cp310-manylinux1_x86_64.whl (192.8 MB)\n",
            "\u001b[2K   \u001b[90m━━━━━━━━━━━━━━━━━━━━━━━━━━━━━━━━━━━━━━━━\u001b[0m \u001b[32m192.8/192.8 MB\u001b[0m \u001b[31m3.2 MB/s\u001b[0m eta \u001b[36m0:00:00\u001b[0m00:01\u001b[0m00:02\u001b[0m\n",
            "\u001b[?25hInstalling collected packages: paddlepaddle\n",
            "Successfully installed paddlepaddle-3.0.0\n"
          ]
        }
      ],
      "source": [
        "!pip install paddleocr\n",
        "!pip install paddlepaddle"
      ]
    },
    {
      "cell_type": "code",
      "execution_count": 2,
      "metadata": {
        "colab": {
          "base_uri": "https://localhost:8080/"
        },
        "id": "9jGWZidqmkcn",
        "outputId": "f9639808-8cd9-49d4-a76e-31f482ec4a10"
      },
      "outputs": [
        {
          "name": "stdout",
          "output_type": "stream",
          "text": [
            "Connecting to https://paddle-model-ecology.bj.bcebos.com/paddlex/PaddleX3.0/fonts/PingFang-SC-Regular.ttf ...\n",
            "Downloading PingFang-SC-Regular.ttf ...\n",
            "[==================================================] 100.00%\n",
            "Connecting to https://paddle-model-ecology.bj.bcebos.com/paddlex/PaddleX3.0/fonts/simfang.ttf ...\n",
            "Downloading simfang.ttf ...\n",
            "[==================================================] 100.00%\n"
          ]
        },
        {
          "name": "stderr",
          "output_type": "stream",
          "text": [
            "\u001b[32mCreating model: ('PP-LCNet_x1_0_doc_ori', None)\u001b[0m\n",
            "\u001b[32mUsing official model (PP-LCNet_x1_0_doc_ori), the model files will be automatically downloaded and saved in /home/atong/.paddlex/official_models.\u001b[0m\n"
          ]
        },
        {
          "name": "stdout",
          "output_type": "stream",
          "text": [
            "Connecting to https://paddle-model-ecology.bj.bcebos.com/paddlex/official_inference_model/paddle3.0.0/PP-LCNet_x1_0_doc_ori_infer.tar ...\n",
            "Downloading PP-LCNet_x1_0_doc_ori_infer.tar ...\n",
            "[==================================================] 100.00%\n",
            "Extracting PP-LCNet_x1_0_doc_ori_infer.tar\n",
            "[==================================================] 100.00%\n"
          ]
        },
        {
          "name": "stderr",
          "output_type": "stream",
          "text": [
            "/home/atong/.local/lib/python3.10/site-packages/paddle/utils/cpp_extension/extension_utils.py:711: UserWarning: No ccache found. Please be aware that recompiling all source files may be required. You can download and install ccache from: https://github.com/ccache/ccache/blob/master/doc/INSTALL.md\n",
            "  warnings.warn(warning_message)\n",
            "E0618 15:56:07.604357  5329 analysis_config.cc:169] Please use PaddlePaddle with GPU version.\n",
            "\u001b[32mCreating model: ('UVDoc', None)\u001b[0m\n",
            "\u001b[32mUsing official model (UVDoc), the model files will be automatically downloaded and saved in /home/atong/.paddlex/official_models.\u001b[0m\n"
          ]
        },
        {
          "name": "stdout",
          "output_type": "stream",
          "text": [
            "Connecting to https://paddle-model-ecology.bj.bcebos.com/paddlex/official_inference_model/paddle3.0.0/UVDoc_infer.tar ...\n",
            "Downloading UVDoc_infer.tar ...\n",
            "[==================================================] 100.00%\n",
            "Extracting UVDoc_infer.tar\n",
            "[==================================================] 100.00%\n"
          ]
        },
        {
          "name": "stderr",
          "output_type": "stream",
          "text": [
            "E0618 15:56:16.832767  5329 analysis_config.cc:169] Please use PaddlePaddle with GPU version.\n",
            "\u001b[32mCreating model: ('PP-LCNet_x1_0_textline_ori', None)\u001b[0m\n",
            "\u001b[32mUsing official model (PP-LCNet_x1_0_textline_ori), the model files will be automatically downloaded and saved in /home/atong/.paddlex/official_models.\u001b[0m\n"
          ]
        },
        {
          "name": "stdout",
          "output_type": "stream",
          "text": [
            "Connecting to https://paddle-model-ecology.bj.bcebos.com/paddlex/official_inference_model/paddle3.0.0/PP-LCNet_x1_0_textline_ori_infer.tar ...\n",
            "Downloading PP-LCNet_x1_0_textline_ori_infer.tar ...\n",
            "[==================================================] 100.00%\n",
            "Extracting PP-LCNet_x1_0_textline_ori_infer.tar\n",
            "[==================================================] 100.00%\n"
          ]
        },
        {
          "name": "stderr",
          "output_type": "stream",
          "text": [
            "E0618 15:56:19.791183  5329 analysis_config.cc:169] Please use PaddlePaddle with GPU version.\n",
            "\u001b[32mCreating model: ('PP-OCRv5_server_det', None)\u001b[0m\n",
            "\u001b[32mUsing official model (PP-OCRv5_server_det), the model files will be automatically downloaded and saved in /home/atong/.paddlex/official_models.\u001b[0m\n"
          ]
        },
        {
          "name": "stdout",
          "output_type": "stream",
          "text": [
            "Connecting to https://paddle-model-ecology.bj.bcebos.com/paddlex/official_inference_model/paddle3.0.0/PP-OCRv5_server_det_infer.tar ...\n",
            "Downloading PP-OCRv5_server_det_infer.tar ...\n",
            "[==================================================] 100.00%\n",
            "Extracting PP-OCRv5_server_det_infer.tar\n",
            "[==================================================] 100.00%\n"
          ]
        },
        {
          "name": "stderr",
          "output_type": "stream",
          "text": [
            "E0618 15:56:40.726223  5329 analysis_config.cc:169] Please use PaddlePaddle with GPU version.\n",
            "\u001b[32mCreating model: ('PP-OCRv5_server_rec', None)\u001b[0m\n",
            "\u001b[32mUsing official model (PP-OCRv5_server_rec), the model files will be automatically downloaded and saved in /home/atong/.paddlex/official_models.\u001b[0m\n"
          ]
        },
        {
          "name": "stdout",
          "output_type": "stream",
          "text": [
            "Connecting to https://paddle-model-ecology.bj.bcebos.com/paddlex/official_inference_model/paddle3.0.0/PP-OCRv5_server_rec_infer.tar ...\n",
            "Downloading PP-OCRv5_server_rec_infer.tar ...\n",
            "[==================================================] 100.00%\n",
            "Extracting PP-OCRv5_server_rec_infer.tar\n",
            "[==================================================] 100.00%\n"
          ]
        },
        {
          "name": "stderr",
          "output_type": "stream",
          "text": [
            "E0618 15:57:01.870162  5329 analysis_config.cc:169] Please use PaddlePaddle with GPU version.\n",
            "[ WARN:0@69.224] global loadsave.cpp:241 findDecoder imread_('./receipt.jpeg'): can't open/read file: check file path/integrity\n"
          ]
        },
        {
          "ename": "Exception",
          "evalue": "Image read Error: ./receipt.jpeg",
          "output_type": "error",
          "traceback": [
            "\u001b[0;31m---------------------------------------------------------------------------\u001b[0m",
            "\u001b[0;31mException\u001b[0m                                 Traceback (most recent call last)",
            "Cell \u001b[0;32mIn[2], line 7\u001b[0m\n\u001b[1;32m      4\u001b[0m ocr \u001b[38;5;241m=\u001b[39m PaddleOCR(lang\u001b[38;5;241m=\u001b[39m\u001b[38;5;124m'\u001b[39m\u001b[38;5;124men\u001b[39m\u001b[38;5;124m'\u001b[39m)\n\u001b[1;32m      6\u001b[0m image_path \u001b[38;5;241m=\u001b[39m \u001b[38;5;124m'\u001b[39m\u001b[38;5;124m./receipt.jpeg\u001b[39m\u001b[38;5;124m'\u001b[39m\n\u001b[0;32m----> 7\u001b[0m results \u001b[38;5;241m=\u001b[39m \u001b[43mocr\u001b[49m\u001b[38;5;241;43m.\u001b[39;49m\u001b[43mpredict\u001b[49m\u001b[43m(\u001b[49m\u001b[43mimage_path\u001b[49m\u001b[43m)\u001b[49m\n",
            "File \u001b[0;32m~/.local/lib/python3.10/site-packages/paddleocr/_pipelines/ocr.py:208\u001b[0m, in \u001b[0;36mPaddleOCR.predict\u001b[0;34m(self, input, use_doc_orientation_classify, use_doc_unwarping, use_textline_orientation, text_det_limit_side_len, text_det_limit_type, text_det_thresh, text_det_box_thresh, text_det_unclip_ratio, text_rec_score_thresh)\u001b[0m\n\u001b[1;32m    194\u001b[0m \u001b[38;5;28;01mdef\u001b[39;00m\u001b[38;5;250m \u001b[39m\u001b[38;5;21mpredict\u001b[39m(\n\u001b[1;32m    195\u001b[0m     \u001b[38;5;28mself\u001b[39m,\n\u001b[1;32m    196\u001b[0m     \u001b[38;5;28minput\u001b[39m,\n\u001b[0;32m   (...)\u001b[0m\n\u001b[1;32m    206\u001b[0m     text_rec_score_thresh\u001b[38;5;241m=\u001b[39m\u001b[38;5;28;01mNone\u001b[39;00m,\n\u001b[1;32m    207\u001b[0m ):\n\u001b[0;32m--> 208\u001b[0m     \u001b[38;5;28;01mreturn\u001b[39;00m \u001b[38;5;28;43mlist\u001b[39;49m\u001b[43m(\u001b[49m\n\u001b[1;32m    209\u001b[0m \u001b[43m        \u001b[49m\u001b[38;5;28;43mself\u001b[39;49m\u001b[38;5;241;43m.\u001b[39;49m\u001b[43mpredict_iter\u001b[49m\u001b[43m(\u001b[49m\n\u001b[1;32m    210\u001b[0m \u001b[43m            \u001b[49m\u001b[38;5;28;43minput\u001b[39;49m\u001b[43m,\u001b[49m\n\u001b[1;32m    211\u001b[0m \u001b[43m            \u001b[49m\u001b[43muse_doc_orientation_classify\u001b[49m\u001b[38;5;241;43m=\u001b[39;49m\u001b[43muse_doc_orientation_classify\u001b[49m\u001b[43m,\u001b[49m\n\u001b[1;32m    212\u001b[0m \u001b[43m            \u001b[49m\u001b[43muse_doc_unwarping\u001b[49m\u001b[38;5;241;43m=\u001b[39;49m\u001b[43muse_doc_unwarping\u001b[49m\u001b[43m,\u001b[49m\n\u001b[1;32m    213\u001b[0m \u001b[43m            \u001b[49m\u001b[43muse_textline_orientation\u001b[49m\u001b[38;5;241;43m=\u001b[39;49m\u001b[43muse_textline_orientation\u001b[49m\u001b[43m,\u001b[49m\n\u001b[1;32m    214\u001b[0m \u001b[43m            \u001b[49m\u001b[43mtext_det_limit_side_len\u001b[49m\u001b[38;5;241;43m=\u001b[39;49m\u001b[43mtext_det_limit_side_len\u001b[49m\u001b[43m,\u001b[49m\n\u001b[1;32m    215\u001b[0m \u001b[43m            \u001b[49m\u001b[43mtext_det_limit_type\u001b[49m\u001b[38;5;241;43m=\u001b[39;49m\u001b[43mtext_det_limit_type\u001b[49m\u001b[43m,\u001b[49m\n\u001b[1;32m    216\u001b[0m \u001b[43m            \u001b[49m\u001b[43mtext_det_thresh\u001b[49m\u001b[38;5;241;43m=\u001b[39;49m\u001b[43mtext_det_thresh\u001b[49m\u001b[43m,\u001b[49m\n\u001b[1;32m    217\u001b[0m \u001b[43m            \u001b[49m\u001b[43mtext_det_box_thresh\u001b[49m\u001b[38;5;241;43m=\u001b[39;49m\u001b[43mtext_det_box_thresh\u001b[49m\u001b[43m,\u001b[49m\n\u001b[1;32m    218\u001b[0m \u001b[43m            \u001b[49m\u001b[43mtext_det_unclip_ratio\u001b[49m\u001b[38;5;241;43m=\u001b[39;49m\u001b[43mtext_det_unclip_ratio\u001b[49m\u001b[43m,\u001b[49m\n\u001b[1;32m    219\u001b[0m \u001b[43m            \u001b[49m\u001b[43mtext_rec_score_thresh\u001b[49m\u001b[38;5;241;43m=\u001b[39;49m\u001b[43mtext_rec_score_thresh\u001b[49m\u001b[43m,\u001b[49m\n\u001b[1;32m    220\u001b[0m \u001b[43m        \u001b[49m\u001b[43m)\u001b[49m\n\u001b[1;32m    221\u001b[0m \u001b[43m    \u001b[49m\u001b[43m)\u001b[49m\n",
            "File \u001b[0;32m~/.local/lib/python3.10/site-packages/paddlex/inference/pipelines/_parallel.py:129\u001b[0m, in \u001b[0;36mAutoParallelSimpleInferencePipeline.predict\u001b[0;34m(self, input, *args, **kwargs)\u001b[0m\n\u001b[1;32m    123\u001b[0m     \u001b[38;5;28;01myield from\u001b[39;00m \u001b[38;5;28mself\u001b[39m\u001b[38;5;241m.\u001b[39m_executor\u001b[38;5;241m.\u001b[39mexecute(\n\u001b[1;32m    124\u001b[0m         \u001b[38;5;28minput\u001b[39m,\n\u001b[1;32m    125\u001b[0m         \u001b[38;5;241m*\u001b[39margs,\n\u001b[1;32m    126\u001b[0m         \u001b[38;5;241m*\u001b[39m\u001b[38;5;241m*\u001b[39mkwargs,\n\u001b[1;32m    127\u001b[0m     )\n\u001b[1;32m    128\u001b[0m \u001b[38;5;28;01melse\u001b[39;00m:\n\u001b[0;32m--> 129\u001b[0m     \u001b[38;5;28;01myield from\u001b[39;00m \u001b[38;5;28mself\u001b[39m\u001b[38;5;241m.\u001b[39m_pipeline\u001b[38;5;241m.\u001b[39mpredict(\n\u001b[1;32m    130\u001b[0m         \u001b[38;5;28minput\u001b[39m,\n\u001b[1;32m    131\u001b[0m         \u001b[38;5;241m*\u001b[39margs,\n\u001b[1;32m    132\u001b[0m         \u001b[38;5;241m*\u001b[39m\u001b[38;5;241m*\u001b[39mkwargs,\n\u001b[1;32m    133\u001b[0m     )\n",
            "File \u001b[0;32m~/.local/lib/python3.10/site-packages/paddlex/inference/pipelines/ocr/pipeline.py:333\u001b[0m, in \u001b[0;36m_OCRPipeline.predict\u001b[0;34m(self, input, use_doc_orientation_classify, use_doc_unwarping, use_textline_orientation, text_det_limit_side_len, text_det_limit_type, text_det_max_side_limit, text_det_thresh, text_det_box_thresh, text_det_unclip_ratio, text_rec_score_thresh)\u001b[0m\n\u001b[1;32m    330\u001b[0m     text_rec_score_thresh \u001b[38;5;241m=\u001b[39m \u001b[38;5;28mself\u001b[39m\u001b[38;5;241m.\u001b[39mtext_rec_score_thresh\n\u001b[1;32m    332\u001b[0m \u001b[38;5;28;01mfor\u001b[39;00m _, batch_data \u001b[38;5;129;01min\u001b[39;00m \u001b[38;5;28menumerate\u001b[39m(\u001b[38;5;28mself\u001b[39m\u001b[38;5;241m.\u001b[39mbatch_sampler(\u001b[38;5;28minput\u001b[39m)):\n\u001b[0;32m--> 333\u001b[0m     image_arrays \u001b[38;5;241m=\u001b[39m \u001b[38;5;28;43mself\u001b[39;49m\u001b[38;5;241;43m.\u001b[39;49m\u001b[43mimg_reader\u001b[49m\u001b[43m(\u001b[49m\u001b[43mbatch_data\u001b[49m\u001b[38;5;241;43m.\u001b[39;49m\u001b[43minstances\u001b[49m\u001b[43m)\u001b[49m\n\u001b[1;32m    335\u001b[0m     \u001b[38;5;28;01mif\u001b[39;00m model_settings[\u001b[38;5;124m\"\u001b[39m\u001b[38;5;124muse_doc_preprocessor\u001b[39m\u001b[38;5;124m\"\u001b[39m]:\n\u001b[1;32m    336\u001b[0m         doc_preprocessor_results \u001b[38;5;241m=\u001b[39m \u001b[38;5;28mlist\u001b[39m(\n\u001b[1;32m    337\u001b[0m             \u001b[38;5;28mself\u001b[39m\u001b[38;5;241m.\u001b[39mdoc_preprocessor_pipeline(\n\u001b[1;32m    338\u001b[0m                 image_arrays,\n\u001b[0;32m   (...)\u001b[0m\n\u001b[1;32m    341\u001b[0m             )\n\u001b[1;32m    342\u001b[0m         )\n",
            "File \u001b[0;32m~/.local/lib/python3.10/site-packages/paddlex/inference/common/reader/image_reader.py:49\u001b[0m, in \u001b[0;36mReadImage.__call__\u001b[0;34m(self, imgs)\u001b[0m\n\u001b[1;32m     47\u001b[0m \u001b[38;5;28;01mdef\u001b[39;00m\u001b[38;5;250m \u001b[39m\u001b[38;5;21m__call__\u001b[39m(\u001b[38;5;28mself\u001b[39m, imgs):\n\u001b[1;32m     48\u001b[0m \u001b[38;5;250m    \u001b[39m\u001b[38;5;124;03m\"\"\"apply\"\"\"\u001b[39;00m\n\u001b[0;32m---> 49\u001b[0m     \u001b[38;5;28;01mreturn\u001b[39;00m [\u001b[38;5;28mself\u001b[39m\u001b[38;5;241m.\u001b[39mread(img) \u001b[38;5;28;01mfor\u001b[39;00m img \u001b[38;5;129;01min\u001b[39;00m imgs]\n",
            "File \u001b[0;32m~/.local/lib/python3.10/site-packages/paddlex/inference/common/reader/image_reader.py:49\u001b[0m, in \u001b[0;36m<listcomp>\u001b[0;34m(.0)\u001b[0m\n\u001b[1;32m     47\u001b[0m \u001b[38;5;28;01mdef\u001b[39;00m\u001b[38;5;250m \u001b[39m\u001b[38;5;21m__call__\u001b[39m(\u001b[38;5;28mself\u001b[39m, imgs):\n\u001b[1;32m     48\u001b[0m \u001b[38;5;250m    \u001b[39m\u001b[38;5;124;03m\"\"\"apply\"\"\"\u001b[39;00m\n\u001b[0;32m---> 49\u001b[0m     \u001b[38;5;28;01mreturn\u001b[39;00m [\u001b[38;5;28;43mself\u001b[39;49m\u001b[38;5;241;43m.\u001b[39;49m\u001b[43mread\u001b[49m\u001b[43m(\u001b[49m\u001b[43mimg\u001b[49m\u001b[43m)\u001b[49m \u001b[38;5;28;01mfor\u001b[39;00m img \u001b[38;5;129;01min\u001b[39;00m imgs]\n",
            "File \u001b[0;32m~/.local/lib/python3.10/site-packages/paddlex/inference/common/reader/image_reader.py:59\u001b[0m, in \u001b[0;36mReadImage.read\u001b[0;34m(self, img)\u001b[0m\n\u001b[1;32m     57\u001b[0m blob \u001b[38;5;241m=\u001b[39m \u001b[38;5;28mself\u001b[39m\u001b[38;5;241m.\u001b[39m_img_reader\u001b[38;5;241m.\u001b[39mread(img)\n\u001b[1;32m     58\u001b[0m \u001b[38;5;28;01mif\u001b[39;00m blob \u001b[38;5;129;01mis\u001b[39;00m \u001b[38;5;28;01mNone\u001b[39;00m:\n\u001b[0;32m---> 59\u001b[0m     \u001b[38;5;28;01mraise\u001b[39;00m \u001b[38;5;167;01mException\u001b[39;00m(\u001b[38;5;124mf\u001b[39m\u001b[38;5;124m\"\u001b[39m\u001b[38;5;124mImage read Error: \u001b[39m\u001b[38;5;132;01m{\u001b[39;00mimg\u001b[38;5;132;01m}\u001b[39;00m\u001b[38;5;124m\"\u001b[39m)\n\u001b[1;32m     61\u001b[0m \u001b[38;5;28;01mif\u001b[39;00m \u001b[38;5;28mself\u001b[39m\u001b[38;5;241m.\u001b[39mformat \u001b[38;5;241m==\u001b[39m \u001b[38;5;124m\"\u001b[39m\u001b[38;5;124mRGB\u001b[39m\u001b[38;5;124m\"\u001b[39m:\n\u001b[1;32m     62\u001b[0m     \u001b[38;5;28;01mif\u001b[39;00m blob\u001b[38;5;241m.\u001b[39mndim \u001b[38;5;241m!=\u001b[39m \u001b[38;5;241m3\u001b[39m:\n",
            "\u001b[0;31mException\u001b[0m: Image read Error: ./receipt.jpeg"
          ]
        }
      ],
      "source": [
        "from paddleocr import PaddleOCR\n",
        "from PIL import Image, ImageDraw, ImageFont\n",
        "\n",
        "ocr = PaddleOCR(lang='en')\n",
        "\n",
        "image_path = './receipt.jpeg'\n",
        "results = ocr.predict(image_path)"
      ]
    },
    {
      "cell_type": "code",
      "execution_count": null,
      "metadata": {
        "colab": {
          "base_uri": "https://localhost:8080/"
        },
        "id": "RFfv55J0wJ89",
        "outputId": "692ab368-8baa-4428-f63f-c54e8a5d7bec"
      },
      "outputs": [
        {
          "name": "stderr",
          "output_type": "stream",
          "text": [
            "\u001b[32m{'res': {'input_path': './receipt.jpeg', 'page_index': None, 'model_settings': {'use_doc_preprocessor': True, 'use_textline_orientation': True}, 'doc_preprocessor_res': {'input_path': None, 'page_index': None, 'model_settings': {'use_doc_orientation_classify': True, 'use_doc_unwarping': True}, 'angle': 0}, 'dt_polys': array([[[  58,   37],\n",
            "        ...,\n",
            "        [  58,   87]],\n",
            "\n",
            "       ...,\n",
            "\n",
            "       [[ 379, 1365],\n",
            "        ...,\n",
            "        [ 379, 1428]]], dtype=int16), 'text_det_params': {'limit_side_len': 64, 'limit_type': 'min', 'thresh': 0.3, 'max_side_limit': 4000, 'box_thresh': 0.6, 'unclip_ratio': 1.5}, 'text_type': 'general', 'textline_orientation_angles': array([0, ..., 0]), 'text_rec_score_thresh': 0.0, 'rec_texts': ['No', 'FTPB01202506080022', 'Penjualan', 'SFTPB174938670388', 'Tanggal', '：0806202519:45', 'Jam Masuk', '：08-00-202519:45', 'Info', '：21', 'Mode', ':DINE IN', 'Full Size Fish And Chips', 'Original', '1x', '@4b.818', '46.818', '1item', 'Subtotal:', '46.818', 'PB1:', '4.682', 'Grand Total:', '51.500', 'CASH :', '55.000', 'Kembalian :', '3.500', 'Thank You', 'Nomor antrian', '22', 'Tunggu nomor', 'kamu dipanggil'], 'rec_scores': array([0.79426575, ..., 0.89218223]), 'rec_polys': array([[[  58,   37],\n",
            "        ...,\n",
            "        [  58,   87]],\n",
            "\n",
            "       ...,\n",
            "\n",
            "       [[ 379, 1365],\n",
            "        ...,\n",
            "        [ 379, 1428]]], dtype=int16), 'rec_boxes': array([[  58, ...,   87],\n",
            "       ...,\n",
            "       [ 379, ..., 1430]], dtype=int16)}}\u001b[0m\n"
          ]
        }
      ],
      "source": [
        "for res in results:\n",
        "    res.print()\n",
        "    res.save_to_img(\"output\")\n",
        "    res.save_to_json(\"output\")"
      ]
    },
    {
      "cell_type": "code",
      "execution_count": null,
      "metadata": {
        "colab": {
          "base_uri": "https://localhost:8080/"
        },
        "id": "mwrW0iC-nf9Q",
        "outputId": "bc61b4d0-3c43-4e61-fa80-2357169f517b"
      },
      "outputs": [
        {
          "name": "stdout",
          "output_type": "stream",
          "text": [
            "{'subtotal': 27000.0, 'tax': None, 'total': None}\n"
          ]
        }
      ],
      "source": [
        "def extract_total_from_texts(rec_texts):\n",
        "    total = None\n",
        "    subtotal = None\n",
        "    tax = None\n",
        "\n",
        "    norm_texts = [text.strip().lower().replace(\":\", \"\").replace(\"rp\", \"\") for text in rec_texts]\n",
        "\n",
        "    for i, text in enumerate(norm_texts):\n",
        "        if text in [\"grand total\", \"total\", \"total harga\"]:\n",
        "            if i + 1 < len(norm_texts):\n",
        "                value = norm_texts[i + 1].replace(\".\", \"\").replace(\",\", \".\")\n",
        "                if value.replace(\".\", \"\").isdigit():\n",
        "                    total = float(value)\n",
        "        elif text in [\"subtotal\", \"jumlah\", \"total sementara\"]:\n",
        "            if i + 1 < len(norm_texts):\n",
        "                value = norm_texts[i + 1].replace(\".\", \"\").replace(\",\", \".\")\n",
        "                if value.replace(\".\", \"\").isdigit():\n",
        "                    subtotal = float(value)\n",
        "        elif \"pb1\" in text or \"pajak\" in text:\n",
        "            if i + 1 < len(norm_texts):\n",
        "                value = norm_texts[i + 1].replace(\".\", \"\").replace(\",\", \".\")\n",
        "                if value.replace(\".\", \"\").isdigit():\n",
        "                    tax = float(value)\n",
        "\n",
        "    return {\n",
        "        \"subtotal\": subtotal,\n",
        "        \"tax\": tax,\n",
        "        \"total\": total\n",
        "    }\n",
        "\n",
        "print(extract_total_from_texts(results[0]['rec_texts']))\n"
      ]
    }
  ],
  "metadata": {
    "colab": {
      "provenance": []
    },
    "kernelspec": {
      "display_name": "Python 3",
      "name": "python3"
    },
    "language_info": {
      "codemirror_mode": {
        "name": "ipython",
        "version": 3
      },
      "file_extension": ".py",
      "mimetype": "text/x-python",
      "name": "python",
      "nbconvert_exporter": "python",
      "pygments_lexer": "ipython3",
      "version": "3.10.12"
    }
  },
  "nbformat": 4,
  "nbformat_minor": 0
}
